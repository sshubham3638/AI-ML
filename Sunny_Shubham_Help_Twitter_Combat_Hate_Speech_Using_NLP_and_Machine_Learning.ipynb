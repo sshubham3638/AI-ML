{
  "nbformat": 4,
  "nbformat_minor": 0,
  "metadata": {
    "kernelspec": {
      "display_name": "Python 3",
      "language": "python",
      "name": "python3"
    },
    "language_info": {
      "codemirror_mode": {
        "name": "ipython",
        "version": 3
      },
      "file_extension": ".py",
      "mimetype": "text/x-python",
      "name": "python",
      "nbconvert_exporter": "python",
      "pygments_lexer": "ipython3",
      "version": "3.8.5"
    },
    "colab": {
      "name": "Sunny_Shubham_Help_Twitter_Combat_Hate_Speech_Using_NLP_and_Machine_Learning.ipynb",
      "provenance": [],
      "include_colab_link": true
    }
  },
  "cells": [
    {
      "cell_type": "markdown",
      "metadata": {
        "id": "view-in-github",
        "colab_type": "text"
      },
      "source": [
        "<a href=\"https://colab.research.google.com/github/sshubham3638/DataScience/blob/master/Sunny_Shubham_Help_Twitter_Combat_Hate_Speech_Using_NLP_and_Machine_Learning.ipynb\" target=\"_parent\"><img src=\"https://colab.research.google.com/assets/colab-badge.svg\" alt=\"Open In Colab\"/></a>"
      ]
    },
    {
      "cell_type": "markdown",
      "metadata": {
        "id": "V0l89QspYzQL"
      },
      "source": [
        "# Sunny Shubham\n",
        "#### Help Twitter Combat Hate Speech Using NLP and Machine Learning.\n"
      ]
    },
    {
      "cell_type": "code",
      "metadata": {
        "id": "S4MtCPRHYzQS"
      },
      "source": [
        "import numpy as np\n",
        "import pandas as pd\n",
        "import matplotlib.pyplot as plt\n",
        "import seaborn as sns\n",
        "import warnings"
      ],
      "execution_count": null,
      "outputs": []
    },
    {
      "cell_type": "markdown",
      "metadata": {
        "id": "cKpS1ZNLYzQT"
      },
      "source": [
        "### Load the tweets file using read_csv function from Pandas package. "
      ]
    },
    {
      "cell_type": "code",
      "metadata": {
        "id": "1gwgC5wuYzQT"
      },
      "source": [
        "tweet_df = pd.read_csv(\"TwitterHate.csv\")"
      ],
      "execution_count": null,
      "outputs": []
    },
    {
      "cell_type": "code",
      "metadata": {
        "id": "qvs_c1UOYzQU",
        "outputId": "4d282874-29f0-4bbb-8f77-8ceb5990634f"
      },
      "source": [
        "tweet_df.head()"
      ],
      "execution_count": null,
      "outputs": [
        {
          "output_type": "execute_result",
          "data": {
            "text/html": [
              "<div>\n",
              "<style scoped>\n",
              "    .dataframe tbody tr th:only-of-type {\n",
              "        vertical-align: middle;\n",
              "    }\n",
              "\n",
              "    .dataframe tbody tr th {\n",
              "        vertical-align: top;\n",
              "    }\n",
              "\n",
              "    .dataframe thead th {\n",
              "        text-align: right;\n",
              "    }\n",
              "</style>\n",
              "<table border=\"1\" class=\"dataframe\">\n",
              "  <thead>\n",
              "    <tr style=\"text-align: right;\">\n",
              "      <th></th>\n",
              "      <th>id</th>\n",
              "      <th>label</th>\n",
              "      <th>tweet</th>\n",
              "    </tr>\n",
              "  </thead>\n",
              "  <tbody>\n",
              "    <tr>\n",
              "      <th>0</th>\n",
              "      <td>1</td>\n",
              "      <td>0</td>\n",
              "      <td>@user when a father is dysfunctional and is s...</td>\n",
              "    </tr>\n",
              "    <tr>\n",
              "      <th>1</th>\n",
              "      <td>2</td>\n",
              "      <td>0</td>\n",
              "      <td>@user @user thanks for #lyft credit i can't us...</td>\n",
              "    </tr>\n",
              "    <tr>\n",
              "      <th>2</th>\n",
              "      <td>3</td>\n",
              "      <td>0</td>\n",
              "      <td>bihday your majesty</td>\n",
              "    </tr>\n",
              "    <tr>\n",
              "      <th>3</th>\n",
              "      <td>4</td>\n",
              "      <td>0</td>\n",
              "      <td>#model   i love u take with u all the time in ...</td>\n",
              "    </tr>\n",
              "    <tr>\n",
              "      <th>4</th>\n",
              "      <td>5</td>\n",
              "      <td>0</td>\n",
              "      <td>factsguide: society now    #motivation</td>\n",
              "    </tr>\n",
              "  </tbody>\n",
              "</table>\n",
              "</div>"
            ],
            "text/plain": [
              "   id  label                                              tweet\n",
              "0   1      0   @user when a father is dysfunctional and is s...\n",
              "1   2      0  @user @user thanks for #lyft credit i can't us...\n",
              "2   3      0                                bihday your majesty\n",
              "3   4      0  #model   i love u take with u all the time in ...\n",
              "4   5      0             factsguide: society now    #motivation"
            ]
          },
          "metadata": {
            "tags": []
          },
          "execution_count": 3
        }
      ]
    },
    {
      "cell_type": "code",
      "metadata": {
        "id": "zBIOPXrnYzQV",
        "outputId": "fced19c0-0f75-427f-867b-af3fc65b800d"
      },
      "source": [
        "tweet_df.label.value_counts(normalize=True)"
      ],
      "execution_count": null,
      "outputs": [
        {
          "output_type": "execute_result",
          "data": {
            "text/plain": [
              "0    0.929854\n",
              "1    0.070146\n",
              "Name: label, dtype: float64"
            ]
          },
          "metadata": {
            "tags": []
          },
          "execution_count": 4
        }
      ]
    },
    {
      "cell_type": "code",
      "metadata": {
        "id": "n1n2SPz9YzQV",
        "outputId": "8176932e-64ad-42c5-f48f-7d508d290c86"
      },
      "source": [
        "# checking out the negative comments from the train set\n",
        "tweet_df[tweet_df['label'] == 0].head(10)"
      ],
      "execution_count": null,
      "outputs": [
        {
          "output_type": "execute_result",
          "data": {
            "text/html": [
              "<div>\n",
              "<style scoped>\n",
              "    .dataframe tbody tr th:only-of-type {\n",
              "        vertical-align: middle;\n",
              "    }\n",
              "\n",
              "    .dataframe tbody tr th {\n",
              "        vertical-align: top;\n",
              "    }\n",
              "\n",
              "    .dataframe thead th {\n",
              "        text-align: right;\n",
              "    }\n",
              "</style>\n",
              "<table border=\"1\" class=\"dataframe\">\n",
              "  <thead>\n",
              "    <tr style=\"text-align: right;\">\n",
              "      <th></th>\n",
              "      <th>id</th>\n",
              "      <th>label</th>\n",
              "      <th>tweet</th>\n",
              "    </tr>\n",
              "  </thead>\n",
              "  <tbody>\n",
              "    <tr>\n",
              "      <th>0</th>\n",
              "      <td>1</td>\n",
              "      <td>0</td>\n",
              "      <td>@user when a father is dysfunctional and is s...</td>\n",
              "    </tr>\n",
              "    <tr>\n",
              "      <th>1</th>\n",
              "      <td>2</td>\n",
              "      <td>0</td>\n",
              "      <td>@user @user thanks for #lyft credit i can't us...</td>\n",
              "    </tr>\n",
              "    <tr>\n",
              "      <th>2</th>\n",
              "      <td>3</td>\n",
              "      <td>0</td>\n",
              "      <td>bihday your majesty</td>\n",
              "    </tr>\n",
              "    <tr>\n",
              "      <th>3</th>\n",
              "      <td>4</td>\n",
              "      <td>0</td>\n",
              "      <td>#model   i love u take with u all the time in ...</td>\n",
              "    </tr>\n",
              "    <tr>\n",
              "      <th>4</th>\n",
              "      <td>5</td>\n",
              "      <td>0</td>\n",
              "      <td>factsguide: society now    #motivation</td>\n",
              "    </tr>\n",
              "    <tr>\n",
              "      <th>5</th>\n",
              "      <td>6</td>\n",
              "      <td>0</td>\n",
              "      <td>[2/2] huge fan fare and big talking before the...</td>\n",
              "    </tr>\n",
              "    <tr>\n",
              "      <th>6</th>\n",
              "      <td>7</td>\n",
              "      <td>0</td>\n",
              "      <td>@user camping tomorrow @user @user @user @use...</td>\n",
              "    </tr>\n",
              "    <tr>\n",
              "      <th>7</th>\n",
              "      <td>8</td>\n",
              "      <td>0</td>\n",
              "      <td>the next school year is the year for exams.ð...</td>\n",
              "    </tr>\n",
              "    <tr>\n",
              "      <th>8</th>\n",
              "      <td>9</td>\n",
              "      <td>0</td>\n",
              "      <td>we won!!! love the land!!! #allin #cavs #champ...</td>\n",
              "    </tr>\n",
              "    <tr>\n",
              "      <th>9</th>\n",
              "      <td>10</td>\n",
              "      <td>0</td>\n",
              "      <td>@user @user welcome here !  i'm   it's so #gr...</td>\n",
              "    </tr>\n",
              "  </tbody>\n",
              "</table>\n",
              "</div>"
            ],
            "text/plain": [
              "   id  label                                              tweet\n",
              "0   1      0   @user when a father is dysfunctional and is s...\n",
              "1   2      0  @user @user thanks for #lyft credit i can't us...\n",
              "2   3      0                                bihday your majesty\n",
              "3   4      0  #model   i love u take with u all the time in ...\n",
              "4   5      0             factsguide: society now    #motivation\n",
              "5   6      0  [2/2] huge fan fare and big talking before the...\n",
              "6   7      0   @user camping tomorrow @user @user @user @use...\n",
              "7   8      0  the next school year is the year for exams.ð...\n",
              "8   9      0  we won!!! love the land!!! #allin #cavs #champ...\n",
              "9  10      0   @user @user welcome here !  i'm   it's so #gr..."
            ]
          },
          "metadata": {
            "tags": []
          },
          "execution_count": 5
        }
      ]
    },
    {
      "cell_type": "code",
      "metadata": {
        "id": "m_QSY7ZVYzQV",
        "outputId": "6ce4fc1e-a6cd-42f7-dd1b-7193174859b5"
      },
      "source": [
        "# checking out the postive comments from the train set \n",
        "\n",
        "tweet_df[tweet_df['label'] == 1].head(10)"
      ],
      "execution_count": null,
      "outputs": [
        {
          "output_type": "execute_result",
          "data": {
            "text/html": [
              "<div>\n",
              "<style scoped>\n",
              "    .dataframe tbody tr th:only-of-type {\n",
              "        vertical-align: middle;\n",
              "    }\n",
              "\n",
              "    .dataframe tbody tr th {\n",
              "        vertical-align: top;\n",
              "    }\n",
              "\n",
              "    .dataframe thead th {\n",
              "        text-align: right;\n",
              "    }\n",
              "</style>\n",
              "<table border=\"1\" class=\"dataframe\">\n",
              "  <thead>\n",
              "    <tr style=\"text-align: right;\">\n",
              "      <th></th>\n",
              "      <th>id</th>\n",
              "      <th>label</th>\n",
              "      <th>tweet</th>\n",
              "    </tr>\n",
              "  </thead>\n",
              "  <tbody>\n",
              "    <tr>\n",
              "      <th>13</th>\n",
              "      <td>14</td>\n",
              "      <td>1</td>\n",
              "      <td>@user #cnn calls #michigan middle school 'buil...</td>\n",
              "    </tr>\n",
              "    <tr>\n",
              "      <th>14</th>\n",
              "      <td>15</td>\n",
              "      <td>1</td>\n",
              "      <td>no comment!  in #australia   #opkillingbay #se...</td>\n",
              "    </tr>\n",
              "    <tr>\n",
              "      <th>17</th>\n",
              "      <td>18</td>\n",
              "      <td>1</td>\n",
              "      <td>retweet if you agree!</td>\n",
              "    </tr>\n",
              "    <tr>\n",
              "      <th>23</th>\n",
              "      <td>24</td>\n",
              "      <td>1</td>\n",
              "      <td>@user @user lumpy says i am a . prove it lumpy.</td>\n",
              "    </tr>\n",
              "    <tr>\n",
              "      <th>34</th>\n",
              "      <td>35</td>\n",
              "      <td>1</td>\n",
              "      <td>it's unbelievable that in the 21st century we'...</td>\n",
              "    </tr>\n",
              "    <tr>\n",
              "      <th>56</th>\n",
              "      <td>57</td>\n",
              "      <td>1</td>\n",
              "      <td>@user lets fight against  #love #peace</td>\n",
              "    </tr>\n",
              "    <tr>\n",
              "      <th>68</th>\n",
              "      <td>69</td>\n",
              "      <td>1</td>\n",
              "      <td>ð©the white establishment can't have blk fol...</td>\n",
              "    </tr>\n",
              "    <tr>\n",
              "      <th>77</th>\n",
              "      <td>78</td>\n",
              "      <td>1</td>\n",
              "      <td>@user hey, white people: you can call people '...</td>\n",
              "    </tr>\n",
              "    <tr>\n",
              "      <th>82</th>\n",
              "      <td>83</td>\n",
              "      <td>1</td>\n",
              "      <td>how the #altright uses  &amp;amp; insecurity to lu...</td>\n",
              "    </tr>\n",
              "    <tr>\n",
              "      <th>111</th>\n",
              "      <td>112</td>\n",
              "      <td>1</td>\n",
              "      <td>@user i'm not interested in a #linguistics tha...</td>\n",
              "    </tr>\n",
              "  </tbody>\n",
              "</table>\n",
              "</div>"
            ],
            "text/plain": [
              "      id  label                                              tweet\n",
              "13    14      1  @user #cnn calls #michigan middle school 'buil...\n",
              "14    15      1  no comment!  in #australia   #opkillingbay #se...\n",
              "17    18      1                             retweet if you agree! \n",
              "23    24      1    @user @user lumpy says i am a . prove it lumpy.\n",
              "34    35      1  it's unbelievable that in the 21st century we'...\n",
              "56    57      1            @user lets fight against  #love #peace \n",
              "68    69      1  ð©the white establishment can't have blk fol...\n",
              "77    78      1  @user hey, white people: you can call people '...\n",
              "82    83      1  how the #altright uses  &amp; insecurity to lu...\n",
              "111  112      1  @user i'm not interested in a #linguistics tha..."
            ]
          },
          "metadata": {
            "tags": []
          },
          "execution_count": 6
        }
      ]
    },
    {
      "cell_type": "code",
      "metadata": {
        "id": "-VJQp7URYzQW",
        "outputId": "c88bbf4c-b791-4004-d6c9-e1864ae37dbf"
      },
      "source": [
        "tweet_df['label'].value_counts().plot.bar(color = 'pink', figsize = (6, 4))"
      ],
      "execution_count": null,
      "outputs": [
        {
          "output_type": "execute_result",
          "data": {
            "text/plain": [
              "<AxesSubplot:>"
            ]
          },
          "metadata": {
            "tags": []
          },
          "execution_count": 7
        },
        {
          "output_type": "display_data",
          "data": {
            "image/png": "[encoded data removed]",
            "text/plain": [
              "<Figure size 432x288 with 1 Axes>"
            ]
          },
          "metadata": {
            "tags": [],
            "needs_background": "light"
          }
        }
      ]
    },
    {
      "cell_type": "markdown",
      "metadata": {
        "id": "6_lafzUoYzQW"
      },
      "source": [
        "### tweets cleanup and manipulation"
      ]
    },
    {
      "cell_type": "code",
      "metadata": {
        "id": "VjfuJoLUYzQW"
      },
      "source": [
        "tweets = tweet_df.tweet.values"
      ],
      "execution_count": null,
      "outputs": []
    },
    {
      "cell_type": "code",
      "metadata": {
        "id": "J6LAP4iIYzQX",
        "outputId": "dc04cbb6-3e7b-4a59-c2fe-30e67135fbee"
      },
      "source": [
        "tweets"
      ],
      "execution_count": null,
      "outputs": [
        {
          "output_type": "execute_result",
          "data": {
            "text/plain": [
              "array([' @user when a father is dysfunctional and is so selfish he drags his kids into his dysfunction.   #run',\n",
              "       \"@user @user thanks for #lyft credit i can't use cause they don't offer wheelchair vans in pdx.    #disapointed #getthanked\",\n",
              "       '  bihday your majesty', ...,\n",
              "       'listening to sad songs on a monday morning otw to work is sad  ',\n",
              "       '@user #sikh #temple vandalised in in #calgary, #wso condemns  act  ',\n",
              "       'thank you @user for you follow  '], dtype=object)"
            ]
          },
          "metadata": {
            "tags": []
          },
          "execution_count": 9
        }
      ]
    },
    {
      "cell_type": "markdown",
      "metadata": {
        "id": "9LULg2djYzQX"
      },
      "source": [
        "#### Normalize the casing"
      ]
    },
    {
      "cell_type": "code",
      "metadata": {
        "id": "iqDEh1hYYzQX"
      },
      "source": [
        "tweets_lower = [twt.lower() for twt in tweets]"
      ],
      "execution_count": null,
      "outputs": []
    },
    {
      "cell_type": "markdown",
      "metadata": {
        "id": "IldY9oByYzQX"
      },
      "source": [
        "#### Using regular expressions, remove user handles. These begin with '@’."
      ]
    },
    {
      "cell_type": "code",
      "metadata": {
        "id": "qiW3W13AYzQY"
      },
      "source": [
        "import re\n",
        "re.sub(\"@\\w+\",\"\", \"@Rahim this course rocks! http://rahimbaig.com/ai\")\n",
        "tweets_nouser = [re.sub(\"@\\w+\",\"\", twt) for twt in tweets_lower]"
      ],
      "execution_count": null,
      "outputs": []
    },
    {
      "cell_type": "code",
      "metadata": {
        "id": "sMDL3jFIYzQY",
        "outputId": "bf8308f1-204d-4347-ccca-f8f3075106c1"
      },
      "source": [
        "tweets_nouser[:5]"
      ],
      "execution_count": null,
      "outputs": [
        {
          "output_type": "execute_result",
          "data": {
            "text/plain": [
              "['  when a father is dysfunctional and is so selfish he drags his kids into his dysfunction.   #run',\n",
              " \"  thanks for #lyft credit i can't use cause they don't offer wheelchair vans in pdx.    #disapointed #getthanked\",\n",
              " '  bihday your majesty',\n",
              " '#model   i love u take with u all the time in urð\\x9f\\x93±!!! ð\\x9f\\x98\\x99ð\\x9f\\x98\\x8eð\\x9f\\x91\\x84ð\\x9f\\x91\\x85ð\\x9f\\x92¦ð\\x9f\\x92¦ð\\x9f\\x92¦  ',\n",
              " ' factsguide: society now    #motivation']"
            ]
          },
          "metadata": {
            "tags": []
          },
          "execution_count": 12
        }
      ]
    },
    {
      "cell_type": "markdown",
      "metadata": {
        "id": "A7y0rUeMYzQY"
      },
      "source": [
        "#### Remove URLs"
      ]
    },
    {
      "cell_type": "code",
      "metadata": {
        "id": "PCxJzEobYzQY",
        "outputId": "7359dd93-3753-45bd-88b6-df83aa4c526d"
      },
      "source": [
        "re.sub(\"\\w+://\\S+\",\"\", \"@Rahim this course rocks! http://rahimbaig.com/ai\")\n",
        "tweets_nourl = [re.sub(\"\\w+://\\S+\",\"\", twt) for twt in tweets_nouser]\n",
        "tweets_nourl[:5]"
      ],
      "execution_count": null,
      "outputs": [
        {
          "output_type": "execute_result",
          "data": {
            "text/plain": [
              "['  when a father is dysfunctional and is so selfish he drags his kids into his dysfunction.   #run',\n",
              " \"  thanks for #lyft credit i can't use cause they don't offer wheelchair vans in pdx.    #disapointed #getthanked\",\n",
              " '  bihday your majesty',\n",
              " '#model   i love u take with u all the time in urð\\x9f\\x93±!!! ð\\x9f\\x98\\x99ð\\x9f\\x98\\x8eð\\x9f\\x91\\x84ð\\x9f\\x91\\x85ð\\x9f\\x92¦ð\\x9f\\x92¦ð\\x9f\\x92¦  ',\n",
              " ' factsguide: society now    #motivation']"
            ]
          },
          "metadata": {
            "tags": []
          },
          "execution_count": 13
        }
      ]
    },
    {
      "cell_type": "markdown",
      "metadata": {
        "id": "7ivZIIvjYzQZ"
      },
      "source": [
        "#### Using TweetTokenizer from NLTK, tokenize the tweets into individual terms."
      ]
    },
    {
      "cell_type": "code",
      "metadata": {
        "id": "4vc_cxHBYzQZ"
      },
      "source": [
        "from nltk.tokenize import TweetTokenizer"
      ],
      "execution_count": null,
      "outputs": []
    },
    {
      "cell_type": "code",
      "metadata": {
        "id": "rIWOm37hYzQZ",
        "outputId": "547e52e4-1d94-4fd4-fd5d-0468c85481a8"
      },
      "source": [
        "tkn = TweetTokenizer()\n",
        "tkn.tokenize(tweets_nourl[0])\n",
        "tweet_token = [tkn.tokenize(sent) for sent in tweets_nourl]\n",
        "print(tweet_token[0])"
      ],
      "execution_count": null,
      "outputs": [
        {
          "output_type": "stream",
          "text": [
            "['when', 'a', 'father', 'is', 'dysfunctional', 'and', 'is', 'so', 'selfish', 'he', 'drags', 'his', 'kids', 'into', 'his', 'dysfunction', '.', '#run']\n"
          ],
          "name": "stdout"
        }
      ]
    },
    {
      "cell_type": "markdown",
      "metadata": {
        "id": "MFvO6p3rYzQa"
      },
      "source": [
        "#### Removing stopwords, Removing redundant terms like ‘amp’, ‘rt’, etc. and Remove ‘#’"
      ]
    },
    {
      "cell_type": "code",
      "metadata": {
        "id": "gODVXlt0YzQa"
      },
      "source": [
        "from nltk.corpus import stopwords\n",
        "from string import punctuation\n",
        "stop_nltk = stopwords.words(\"english\")\n",
        "stop_punct = list(punctuation)\n",
        "stop_punct.extend(['...','``',\"''\",\"..\"])\n",
        "stop_context = ['rt', 'amp']\n",
        "stop_final = stop_nltk + stop_punct + stop_context"
      ],
      "execution_count": null,
      "outputs": []
    },
    {
      "cell_type": "code",
      "metadata": {
        "id": "pplBMQw1YzQa"
      },
      "source": [
        "#Extra cleanup by removing terms with a length of 1.\n",
        "def del_stop(sent):\n",
        "    return [re.sub(\"#\",\"\",term) for term in sent if ((term not in stop_final) & (len(term)>1))]"
      ],
      "execution_count": null,
      "outputs": []
    },
    {
      "cell_type": "code",
      "metadata": {
        "id": "Ux0hzUxHYzQa",
        "outputId": "397c7a39-f98d-43d3-ac72-6885859cede2"
      },
      "source": [
        "del_stop(tweet_token[4])"
      ],
      "execution_count": null,
      "outputs": [
        {
          "output_type": "execute_result",
          "data": {
            "text/plain": [
              "['factsguide', 'society', 'motivation']"
            ]
          },
          "metadata": {
            "tags": []
          },
          "execution_count": 18
        }
      ]
    },
    {
      "cell_type": "code",
      "metadata": {
        "id": "lQjZu7pUYzQb"
      },
      "source": [
        "tweets_clean = [del_stop(tweet) for tweet in tweet_token]"
      ],
      "execution_count": null,
      "outputs": []
    },
    {
      "cell_type": "markdown",
      "metadata": {
        "id": "7gFxTUj8YzQb"
      },
      "source": [
        "### Check out the top terms in the tweets:\n",
        "\n",
        "    1.First, get all the tokenized terms into one large list.\n",
        "    \n",
        "    2.Use the counter and find the 10 most common terms."
      ]
    },
    {
      "cell_type": "code",
      "metadata": {
        "id": "wdTsanOyYzQb"
      },
      "source": [
        "from collections import Counter"
      ],
      "execution_count": null,
      "outputs": []
    },
    {
      "cell_type": "code",
      "metadata": {
        "id": "bmMnh3z0YzQb"
      },
      "source": [
        "term_list = []\n",
        "for tweet in tweets_clean:\n",
        "    term_list.extend(tweet)"
      ],
      "execution_count": null,
      "outputs": []
    },
    {
      "cell_type": "code",
      "metadata": {
        "id": "I8puCR1tYzQb",
        "outputId": "a5e8b7c6-21de-4a07-8464-184b130f5978"
      },
      "source": [
        "res = Counter(term_list)\n",
        "res.most_common(10)"
      ],
      "execution_count": null,
      "outputs": [
        {
          "output_type": "execute_result",
          "data": {
            "text/plain": [
              "[('love', 2748),\n",
              " ('day', 2276),\n",
              " ('happy', 1684),\n",
              " ('time', 1131),\n",
              " ('life', 1118),\n",
              " ('like', 1047),\n",
              " (\"i'm\", 1018),\n",
              " ('today', 1013),\n",
              " ('new', 994),\n",
              " ('thankful', 946)]"
            ]
          },
          "metadata": {
            "tags": []
          },
          "execution_count": 22
        }
      ]
    },
    {
      "cell_type": "markdown",
      "metadata": {
        "id": "w3EhjPMYYzQc"
      },
      "source": [
        "#### Data formatting for predictive modeling:\n",
        "\n",
        "    1.Join the tokens back to form strings. This will be required for the vectorizers.\n",
        "\n",
        "    2.Assign x and y.\n",
        "\n",
        "    3.Perform train_test_split using sklearn."
      ]
    },
    {
      "cell_type": "code",
      "metadata": {
        "id": "Pl3WNy0TYzQc",
        "outputId": "480c3764-c802-4879-d849-f139a14e3aa4"
      },
      "source": [
        "tweets_clean[0]"
      ],
      "execution_count": null,
      "outputs": [
        {
          "output_type": "execute_result",
          "data": {
            "text/plain": [
              "['father', 'dysfunctional', 'selfish', 'drags', 'kids', 'dysfunction', 'run']"
            ]
          },
          "metadata": {
            "tags": []
          },
          "execution_count": 23
        }
      ]
    },
    {
      "cell_type": "code",
      "metadata": {
        "id": "mCF7_M01YzQc"
      },
      "source": [
        "tweets_clean = [\" \".join(tweet) for tweet in tweets_clean]"
      ],
      "execution_count": null,
      "outputs": []
    },
    {
      "cell_type": "code",
      "metadata": {
        "id": "6AjEVRNwYzQc",
        "outputId": "38ca4d03-b45e-44a2-8321-169d59a93c9c"
      },
      "source": [
        "tweets_clean[0]"
      ],
      "execution_count": null,
      "outputs": [
        {
          "output_type": "execute_result",
          "data": {
            "text/plain": [
              "'father dysfunctional selfish drags kids dysfunction run'"
            ]
          },
          "metadata": {
            "tags": []
          },
          "execution_count": 25
        }
      ]
    },
    {
      "cell_type": "code",
      "metadata": {
        "id": "FUS2PadHYzQd",
        "outputId": "638e72a3-e226-4701-8492-48e6d5884c68"
      },
      "source": [
        "len(tweets_clean)"
      ],
      "execution_count": null,
      "outputs": [
        {
          "output_type": "execute_result",
          "data": {
            "text/plain": [
              "31962"
            ]
          },
          "metadata": {
            "tags": []
          },
          "execution_count": 26
        }
      ]
    },
    {
      "cell_type": "code",
      "metadata": {
        "id": "ycrL1JVDYzQd",
        "outputId": "e979dcfe-eff3-4b5d-95ab-f4104165ac5b"
      },
      "source": [
        "len(tweet_df.label)"
      ],
      "execution_count": null,
      "outputs": [
        {
          "output_type": "execute_result",
          "data": {
            "text/plain": [
              "31962"
            ]
          },
          "metadata": {
            "tags": []
          },
          "execution_count": 27
        }
      ]
    },
    {
      "cell_type": "code",
      "metadata": {
        "id": "ToUnbcVbYzQd"
      },
      "source": [
        "X = tweets_clean\n",
        "y = tweet_df.label.values"
      ],
      "execution_count": null,
      "outputs": []
    },
    {
      "cell_type": "code",
      "metadata": {
        "id": "zVr3ImcIYzQd"
      },
      "source": [
        "from sklearn.model_selection import train_test_split\n",
        "X_train, X_test, y_train, y_test = train_test_split(X, y, test_size = 0.30, random_state=42)"
      ],
      "execution_count": null,
      "outputs": []
    },
    {
      "cell_type": "code",
      "metadata": {
        "id": "g1FhWcFaYzQd",
        "outputId": "235d9f4d-ebcd-4bae-84e4-36ccebf22b0e"
      },
      "source": [
        "from sklearn.feature_extraction.text import TfidfVectorizer\n",
        "vectorizer = TfidfVectorizer(max_features = 5000)\n",
        "len(X_train), len(X_test)"
      ],
      "execution_count": null,
      "outputs": [
        {
          "output_type": "execute_result",
          "data": {
            "text/plain": [
              "(22373, 9589)"
            ]
          },
          "metadata": {
            "tags": []
          },
          "execution_count": 30
        }
      ]
    },
    {
      "cell_type": "code",
      "metadata": {
        "id": "cqoF7cNlYzQe"
      },
      "source": [
        "X_train_bow = vectorizer.fit_transform(X_train)\n",
        "X_test_bow = vectorizer.transform(X_test)"
      ],
      "execution_count": null,
      "outputs": []
    },
    {
      "cell_type": "code",
      "metadata": {
        "id": "b8wYkmX3YzQe",
        "outputId": "42f29ca8-52ec-4e37-bd7a-e8e20604e3a7"
      },
      "source": [
        "X_train_bow.shape, X_test_bow.shape"
      ],
      "execution_count": null,
      "outputs": [
        {
          "output_type": "execute_result",
          "data": {
            "text/plain": [
              "((22373, 5000), (9589, 5000))"
            ]
          },
          "metadata": {
            "tags": []
          },
          "execution_count": 32
        }
      ]
    },
    {
      "cell_type": "markdown",
      "metadata": {
        "id": "l321nQSSYzQe"
      },
      "source": [
        "### Model building: Ordinary Logistic Regression"
      ]
    },
    {
      "cell_type": "code",
      "metadata": {
        "id": "Ks_CmgZhYzQf",
        "outputId": "f5271fb1-a685-48eb-8740-6e0fb37d1553"
      },
      "source": [
        "from sklearn.linear_model import LogisticRegression\n",
        "logreg = LogisticRegression()\n",
        "logreg.fit(X_train_bow, y_train)"
      ],
      "execution_count": null,
      "outputs": [
        {
          "output_type": "execute_result",
          "data": {
            "text/plain": [
              "LogisticRegression()"
            ]
          },
          "metadata": {
            "tags": []
          },
          "execution_count": 33
        }
      ]
    },
    {
      "cell_type": "code",
      "metadata": {
        "id": "zXBRiL82YzQf"
      },
      "source": [
        "y_train_pred = logreg.predict(X_train_bow)\n",
        "y_test_pred = logreg.predict(X_test_bow)"
      ],
      "execution_count": null,
      "outputs": []
    },
    {
      "cell_type": "code",
      "metadata": {
        "id": "l18Rfd-7YzQf",
        "outputId": "99277507-7450-46c0-d570-0c5e02d427cf"
      },
      "source": [
        "from sklearn.metrics import accuracy_score, classification_report\n",
        "accuracy_score(y_train, y_train_pred)"
      ],
      "execution_count": null,
      "outputs": [
        {
          "output_type": "execute_result",
          "data": {
            "text/plain": [
              "0.9560184150538595"
            ]
          },
          "metadata": {
            "tags": []
          },
          "execution_count": 35
        }
      ]
    },
    {
      "cell_type": "code",
      "metadata": {
        "id": "pgx03KK3YzQf",
        "outputId": "0a8395ff-faac-4471-d333-ed49fb93494d"
      },
      "source": [
        "print(classification_report(y_train, y_train_pred))"
      ],
      "execution_count": null,
      "outputs": [
        {
          "output_type": "stream",
          "text": [
            "              precision    recall  f1-score   support\n",
            "\n",
            "           0       0.96      1.00      0.98     20815\n",
            "           1       0.96      0.39      0.55      1558\n",
            "\n",
            "    accuracy                           0.96     22373\n",
            "   macro avg       0.96      0.69      0.76     22373\n",
            "weighted avg       0.96      0.96      0.95     22373\n",
            "\n"
          ],
          "name": "stdout"
        }
      ]
    },
    {
      "cell_type": "code",
      "metadata": {
        "id": "QASCrwQoYzQg",
        "outputId": "96f4ee49-f82c-42fb-f187-c5507d128084"
      },
      "source": [
        "logreg = LogisticRegression(class_weight=\"balanced\")\n",
        "logreg.fit(X_train_bow, y_train)\n",
        "y_train_pred = logreg.predict(X_train_bow)\n",
        "y_test_pred = logreg.predict(X_test_bow)\n",
        "accuracy_score(y_train, y_train_pred)"
      ],
      "execution_count": null,
      "outputs": [
        {
          "output_type": "execute_result",
          "data": {
            "text/plain": [
              "0.9527108568363652"
            ]
          },
          "metadata": {
            "tags": []
          },
          "execution_count": 37
        }
      ]
    },
    {
      "cell_type": "code",
      "metadata": {
        "id": "B6qztzC7YzQg",
        "outputId": "9777f8b5-c5c5-4d4a-930d-871d27c89b86"
      },
      "source": [
        "print(classification_report(y_train, y_train_pred))"
      ],
      "execution_count": null,
      "outputs": [
        {
          "output_type": "stream",
          "text": [
            "              precision    recall  f1-score   support\n",
            "\n",
            "           0       1.00      0.95      0.97     20815\n",
            "           1       0.60      0.97      0.74      1558\n",
            "\n",
            "    accuracy                           0.95     22373\n",
            "   macro avg       0.80      0.96      0.86     22373\n",
            "weighted avg       0.97      0.95      0.96     22373\n",
            "\n"
          ],
          "name": "stdout"
        }
      ]
    },
    {
      "cell_type": "code",
      "metadata": {
        "id": "MjiJYUtHYzQg"
      },
      "source": [
        "from sklearn.model_selection import GridSearchCV, StratifiedKFold\n",
        "# Create the parameter grid based on the results of random search \n",
        "param_grid = {\n",
        "    'C': [0.01,0.1,1,10,100],\n",
        "    'penalty': [\"l1\",\"l2\"]\n",
        "}\n",
        "classifier_lr = LogisticRegression(class_weight=\"balanced\")"
      ],
      "execution_count": null,
      "outputs": []
    },
    {
      "cell_type": "code",
      "metadata": {
        "id": "OG8W15skYzQg",
        "outputId": "c2222f5f-39a3-4ab8-aea3-21bbe9879a6b"
      },
      "source": [
        "# Instantiate the grid search model\n",
        "grid_search = GridSearchCV(estimator = classifier_lr, param_grid = param_grid, \n",
        "                          cv = StratifiedKFold(4), n_jobs = -1, verbose = 1, scoring = \"recall\" )\n",
        "grid_search.fit(X_train_bow, y_train)"
      ],
      "execution_count": null,
      "outputs": [
        {
          "output_type": "stream",
          "text": [
            "Fitting 4 folds for each of 10 candidates, totalling 40 fits\n"
          ],
          "name": "stdout"
        },
        {
          "output_type": "stream",
          "text": [
            "[Parallel(n_jobs=-1)]: Using backend LokyBackend with 4 concurrent workers.\n",
            "[Parallel(n_jobs=-1)]: Done  40 out of  40 | elapsed:    5.3s finished\n"
          ],
          "name": "stderr"
        },
        {
          "output_type": "execute_result",
          "data": {
            "text/plain": [
              "GridSearchCV(cv=StratifiedKFold(n_splits=4, random_state=None, shuffle=False),\n",
              "             estimator=LogisticRegression(class_weight='balanced'), n_jobs=-1,\n",
              "             param_grid={'C': [0.01, 0.1, 1, 10, 100], 'penalty': ['l1', 'l2']},\n",
              "             scoring='recall', verbose=1)"
            ]
          },
          "metadata": {
            "tags": []
          },
          "execution_count": 40
        }
      ]
    },
    {
      "cell_type": "code",
      "metadata": {
        "id": "WU5BwTqRYzQg",
        "outputId": "4afd5a28-3101-47bf-bace-3ed14a19df6d"
      },
      "source": [
        "grid_search.best_estimator_"
      ],
      "execution_count": null,
      "outputs": [
        {
          "output_type": "execute_result",
          "data": {
            "text/plain": [
              "LogisticRegression(C=1, class_weight='balanced')"
            ]
          },
          "metadata": {
            "tags": []
          },
          "execution_count": 41
        }
      ]
    },
    {
      "cell_type": "markdown",
      "metadata": {
        "id": "zYRreuvGYzQh"
      },
      "source": [
        "#### Using the best estimator to make predictions on the test set"
      ]
    },
    {
      "cell_type": "code",
      "metadata": {
        "id": "thG0cLLsYzQh"
      },
      "source": [
        "y_test_pred = grid_search.best_estimator_.predict(X_test_bow)"
      ],
      "execution_count": null,
      "outputs": []
    },
    {
      "cell_type": "code",
      "metadata": {
        "id": "88jhcco3YzQh"
      },
      "source": [
        "y_train_pred = grid_search.best_estimator_.predict(X_train_bow)"
      ],
      "execution_count": null,
      "outputs": []
    },
    {
      "cell_type": "code",
      "metadata": {
        "id": "eO9-QPhsYzQh",
        "outputId": "d65f15f7-9cd2-49ce-bc01-068df49e8a4f"
      },
      "source": [
        "print(classification_report(y_test, y_test_pred))"
      ],
      "execution_count": null,
      "outputs": [
        {
          "output_type": "stream",
          "text": [
            "              precision    recall  f1-score   support\n",
            "\n",
            "           0       0.98      0.94      0.96      8905\n",
            "           1       0.49      0.77      0.60       684\n",
            "\n",
            "    accuracy                           0.93      9589\n",
            "   macro avg       0.73      0.85      0.78      9589\n",
            "weighted avg       0.95      0.93      0.93      9589\n",
            "\n"
          ],
          "name": "stdout"
        }
      ]
    },
    {
      "cell_type": "code",
      "metadata": {
        "id": "7cARcvS6YzQi"
      },
      "source": [
        ""
      ],
      "execution_count": null,
      "outputs": []
    }
  ]
}